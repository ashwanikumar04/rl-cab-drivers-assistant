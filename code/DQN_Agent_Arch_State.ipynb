{
 "cells": [
  {
   "cell_type": "markdown",
   "metadata": {},
   "source": [
    "### Cab-Driver Agent"
   ]
  },
  {
   "cell_type": "code",
   "execution_count": 1,
   "metadata": {},
   "outputs": [],
   "source": [
    "#Sometimes this does not hide the warnings, we may need to execute this multiple times.\n",
    "import warnings\n",
    "warnings.filterwarnings('ignore')\n",
    "import os\n",
    "from sys import platform\n",
    "if platform == \"darwin\":\n",
    "    os.environ['KMP_DUPLICATE_LIB_OK'] = 'True'"
   ]
  },
  {
   "cell_type": "code",
   "execution_count": 2,
   "metadata": {},
   "outputs": [
    {
     "name": "stderr",
     "output_type": "stream",
     "text": [
      "Using TensorFlow backend.\n"
     ]
    }
   ],
   "source": [
    "# Importing libraries\n",
    "import numpy as np\n",
    "import random\n",
    "import math\n",
    "from collections import deque\n",
    "import collections\n",
    "import pickle\n",
    "\n",
    "# for building DQN model\n",
    "from keras import layers\n",
    "from keras import Sequential\n",
    "from keras.layers import Dense, Activation, Flatten\n",
    "from keras.optimizers import Nadam\n",
    "\n",
    "# for plotting graphs\n",
    "import matplotlib.pyplot as plt\n",
    "import seaborn as sns\n",
    "sns.set_style(style='dark')\n",
    "sns.set_context(\"notebook\")\n",
    "\n",
    "%config InlineBackend.figure_format = 'retina'\n",
    "%matplotlib inline\n",
    "# Import the environment\n",
    "from Env import CabDriver"
   ]
  },
  {
   "cell_type": "markdown",
   "metadata": {},
   "source": [
    "#### Defining Time Matrix"
   ]
  },
  {
   "cell_type": "code",
   "execution_count": 3,
   "metadata": {},
   "outputs": [],
   "source": [
    "# Loading the time matrix provided\n",
    "Time_matrix = np.load(\"TM.npy\")"
   ]
  },
  {
   "cell_type": "markdown",
   "metadata": {},
   "source": [
    "#### Tracking the state-action pairs for checking convergence\n"
   ]
  },
  {
   "cell_type": "code",
   "execution_count": 4,
   "metadata": {},
   "outputs": [],
   "source": [
    "# Initialise states to be tracked\n",
    "# select any 3 Q-values\n",
    "tracked_values = [((0, 12, 1), (1, 4)), \n",
    "                  ((1, 12, 4), (1, 2)),\n",
    "                  ((2, 14, 2), (2, 3))]\n"
   ]
  },
  {
   "cell_type": "code",
   "execution_count": 5,
   "metadata": {},
   "outputs": [],
   "source": [
    "#Defining a function to save the Q-dictionary as a pickle file\n",
    "def save_obj(obj, name ):\n",
    "    with open(name + '.pkl', 'wb') as f:\n",
    "        pickle.dump(obj, f, pickle.HIGHEST_PROTOCOL)"
   ]
  },
  {
   "cell_type": "markdown",
   "metadata": {},
   "source": [
    "### Agent Class\n",
    "\n",
    "If you are using this framework, you need to fill the following to complete the following code block:\n",
    "1. State and Action Size\n",
    "2. Hyperparameters\n",
    "3. Create a neural-network model in function 'build_model()'\n",
    "4. Define epsilon-greedy strategy in function 'get_action()'\n",
    "5. Complete the function 'append_sample()'. This function appends the recent experience tuple <state, action, reward, new-state> to the memory\n",
    "6. Complete the 'train_model()' function with following logic:\n",
    "   - If the memory size is greater than mini-batch size, you randomly sample experiences from memory as per the mini-batch size and do the following:\n",
    "      - Initialise your input and output batch for training the model\n",
    "      - Calculate the target Q value for each sample: reward + gamma*max(Q(s'a,))\n",
    "      - Get Q(s', a) values from the last trained model\n",
    "      - Update the input batch as your encoded state-action and output batch as your Q-values\n",
    "      - Then fit your DQN model using the updated input and output batch."
   ]
  },
  {
   "cell_type": "code",
   "execution_count": 22,
   "metadata": {},
   "outputs": [],
   "source": [
    "def plot_tracked_values(states_tracks):\n",
    "    fig, axs = plt.subplots(1, 3, figsize=(15, 2))\n",
    "    for index, tracked_value in enumerate(tracked_values):\n",
    "        xaxis = np.asarray(\n",
    "            range(0, len(states_tracks[tracked_value[0]][tracked_value[1]])))\n",
    "        plt.subplot(1, 3, index + 1)\n",
    "        plt.plot(xaxis,\n",
    "                 np.asarray(states_tracks[tracked_value[0]][tracked_value[1]]))\n",
    "        plt.title(\"({},{},{})\".format(tracked_value[0][0], tracked_value[0][1],\n",
    "                                      tracked_value[0][2]) + \"_\" +\n",
    "                  \"({},{})\".format(tracked_value[1][0], tracked_value[1][1]))\n",
    "    plt.show()"
   ]
  },
  {
   "cell_type": "code",
   "execution_count": 7,
   "metadata": {},
   "outputs": [],
   "source": [
    "class AgentParam:\n",
    "    def __init__(self, params):\n",
    "        self.learning_rate = params.get(\"learning_rate\", 0.01)\n",
    "        self.action_size = params[\"action_size\"]\n",
    "        self.state_size = params[\"state_size\"]\n",
    "        self.action_space = params[\"action_space\"]\n",
    "        self.epsilon_max = params.get(\"epsilon_max\", 1)\n",
    "        self.epsilon_min = params.get(\"epsilon_min\", 0.0001)\n",
    "        self.epsilon_decay = params.get(\"epsilon_decay\", 0.0009)\n",
    "        self.discount_factor = params.get(\"discount_factor\", 0.95)\n",
    "        self.batch_size = params.get(\"batch_size\", 32)\n",
    "        self.layers = params[\"layers\"]\n",
    "\n",
    "    def _print(self):\n",
    "        attrs = vars(self)\n",
    "        print(\"Agent Params: \")\n",
    "        print(\"********************************************************\")\n",
    "        for key, value in attrs.items():\n",
    "            print(key, '->', value)\n",
    "        print(\"********************************************************\")"
   ]
  },
  {
   "cell_type": "code",
   "execution_count": 8,
   "metadata": {},
   "outputs": [],
   "source": [
    "class EpsilonGreedyPolicy:\n",
    "    def __init__(self, epsilon_max, epsilon_min, epsilon_decay):\n",
    "        self.epsilon_max = epsilon_max\n",
    "        self.epsilon_min = epsilon_min\n",
    "        self.epsilon_decay = epsilon_decay\n",
    "\n",
    "    def get_epsilon(self, episode):\n",
    "        epsilon = self.epsilon_min + (self.epsilon_max - self.epsilon_min\n",
    "                                      ) * np.exp(-self.epsilon_decay * episode)\n",
    "        return epsilon"
   ]
  },
  {
   "cell_type": "code",
   "execution_count": 9,
   "metadata": {},
   "outputs": [],
   "source": [
    "class ReplayBuffer:\n",
    "    def __init__(self, batch_size, buffer_size=2000):\n",
    "        self.memory = deque(maxlen=buffer_size)\n",
    "        self.batch_size = batch_size\n",
    "\n",
    "    def add(self, experience):\n",
    "        self.memory.append(experience)\n",
    "\n",
    "    def sample(self):\n",
    "        return random.sample(self.memory, self.batch_size)\n",
    "\n",
    "    def has_enough_experience(self):\n",
    "        return self.length() > self.batch_size\n",
    "    \n",
    "    def length(self):\n",
    "        return len(self.memory)"
   ]
  },
  {
   "cell_type": "code",
   "execution_count": 10,
   "metadata": {},
   "outputs": [],
   "source": [
    "class DQNAgent:\n",
    "    def __init__(self, agent_param, state_encoder):\n",
    "        agent_param._print()\n",
    "        # Define size of state and action\n",
    "        self.state_size = agent_param.state_size\n",
    "        self.action_size = agent_param.action_size\n",
    "        self.action_space = agent_param.action_space\n",
    "\n",
    "        self.layers = agent_param.layers\n",
    "\n",
    "        # Write here: Specify you hyper parameters for the DQN\n",
    "        self.discount_factor = agent_param.discount_factor\n",
    "        self.learning_rate = agent_param.learning_rate\n",
    "        self.epsilon_greedy_policy = EpsilonGreedyPolicy(\n",
    "            epsilon_max=agent_param.epsilon_max,\n",
    "            epsilon_min=agent_param.epsilon_min,\n",
    "            epsilon_decay=agent_param.epsilon_decay)\n",
    "        self.batch_size = agent_param.batch_size\n",
    "        self.memory = ReplayBuffer(batch_size=self.batch_size)\n",
    "\n",
    "        # create main model and target model\n",
    "        self.model = self.build_model()\n",
    "        self.states_track = collections.defaultdict(dict)\n",
    "        self.initialise_tracking_states()\n",
    "        self.state_encoder = state_encoder\n",
    "\n",
    "    # approximate Q function using Neural Network\n",
    "\n",
    "    def build_model(self):\n",
    "        model = Sequential()\n",
    "        # Write your code here: Add layers to your neural nets\n",
    "        for index, layer_dim in enumerate(self.layers):\n",
    "            if index == 0:\n",
    "                model.add(\n",
    "                    Dense(layer_dim,\n",
    "                          input_dim=self.state_size,\n",
    "                          activation='relu',\n",
    "                          kernel_initializer='he_uniform'))\n",
    "            else:\n",
    "                model.add(\n",
    "                    Dense(layer_dim,\n",
    "                          activation='relu',\n",
    "                          kernel_initializer='he_uniform'))\n",
    "\n",
    "        model.add(\n",
    "            Dense(self.action_size,\n",
    "                  activation='linear',\n",
    "                  kernel_initializer='he_uniform'))\n",
    "\n",
    "        model.compile(loss='mse', optimizer=Nadam(lr=self.learning_rate))\n",
    "        model.summary()\n",
    "        return model\n",
    "\n",
    "    def get_action(self, state, episode, requests):\n",
    "        # Write your code here:\n",
    "        # get action from model using epsilon-greedy policy\n",
    "        # Decay in ε after we generate each sample from the environment\n",
    "        epsilon = self.epsilon_greedy_policy.get_epsilon(episode)\n",
    "        z = np.random.random()\n",
    "        state_actions_index, state_actions = requests\n",
    "        if z > epsilon:\n",
    "            # Exploitation: this gets the action corresponding to max q-value of current state\n",
    "            state_encode = self.state_encoder(state, self.state_size)\n",
    "            q_value = self.model.predict(state_encode)\n",
    "            q_value = q_value[0][state_actions_index]\n",
    "\n",
    "            action_index = np.argmax(q_value)\n",
    "            action = state_actions[action_index]\n",
    "        else:\n",
    "            action = self.action_space[np.random.choice(state_actions_index)]\n",
    "        return action\n",
    "\n",
    "    def append_experience(self, state, action, reward, next_state, done):\n",
    "        self.memory.add((state, action, reward, next_state, done))\n",
    "\n",
    "    def train_model(self):\n",
    "        if not self.memory.has_enough_experience():\n",
    "            return\n",
    "\n",
    "        # Sample batch from the memory\n",
    "        mini_batch = self.memory.sample()\n",
    "        update_input = np.zeros((self.batch_size, self.state_size))\n",
    "        update_target = np.zeros((self.batch_size, self.state_size))\n",
    "        actions, rewards, done = [], [], []\n",
    "\n",
    "        # Set the values of input, action, reward, target and done using memory\n",
    "        # Note the order of <s,a,r,s',done>\n",
    "        for index, experience in enumerate(mini_batch):\n",
    "            state, action, reward, next_state, is_finished = experience\n",
    "\n",
    "            update_input[index] = env.encode_state(state)\n",
    "            update_target[index] = env.encode_state(next_state)\n",
    "\n",
    "            actions.append(action)\n",
    "            rewards.append(reward)\n",
    "            done.append(is_finished)\n",
    "\n",
    "        target = self.model.predict(update_input)\n",
    "        target_val = self.model.predict(update_target)\n",
    "\n",
    "        # get your target Q-value on the basis of terminal state\n",
    "        for index in range(self.batch_size):\n",
    "            if done[index]:\n",
    "                # print(True)\n",
    "                target[index][actions[index]] = rewards[index]\n",
    "\n",
    "            else:\n",
    "                target[index][\n",
    "                    actions[index]] = rewards[index] + self.discount_factor * (\n",
    "                        np.amax(target_val[index]))\n",
    "\n",
    "        self.model.fit(update_input,\n",
    "                       target,\n",
    "                       batch_size=self.batch_size,\n",
    "                       epochs=1,\n",
    "                       verbose=0)\n",
    "\n",
    "    def memory_length(self):\n",
    "        return self.memory.length()\n",
    "\n",
    "    def save(self, name):\n",
    "        self.model.save_weights(name)\n",
    "\n",
    "    def load(self, name):\n",
    "        self.model.load_weights(name)\n",
    "\n",
    "    def initialise_tracking_states(self):\n",
    "        for q_values in tracked_values:\n",
    "            state = q_values[0]\n",
    "            action = q_values[1]\n",
    "            self.states_track[state][action] = []\n",
    "\n",
    "    def update_tracking_states(self):\n",
    "        for state in self.states_track.keys():\n",
    "            for action in self.states_track[state].keys():\n",
    "                encoded_state = self.state_encoder(state, self.state_size)\n",
    "                prediction = self.model.predict(encoded_state)\n",
    "                action_index = self.action_space.index(list(action))\n",
    "                states_track[state][action].append(prediction[0][action_index])"
   ]
  },
  {
   "cell_type": "code",
   "execution_count": 11,
   "metadata": {},
   "outputs": [],
   "source": [
    "env = CabDriver()"
   ]
  },
  {
   "cell_type": "code",
   "execution_count": 12,
   "metadata": {},
   "outputs": [],
   "source": [
    "def state_encoder(state, state_size):\n",
    "    state_encode = env.encode_state(state)\n",
    "    state_encode = np.reshape(state_encode, [1, state_size])\n",
    "    return state_encode"
   ]
  },
  {
   "cell_type": "code",
   "execution_count": 13,
   "metadata": {},
   "outputs": [
    {
     "name": "stdout",
     "output_type": "stream",
     "text": [
      "Agent Params: \n",
      "********************************************************\n",
      "learning_rate -> 0.001\n",
      "action_size -> 21\n",
      "state_size -> 36\n",
      "action_space -> [[0, 0], [0, 1], [0, 2], [0, 3], [0, 4], [1, 0], [1, 2], [1, 3], [1, 4], [2, 0], [2, 1], [2, 3], [2, 4], [3, 0], [3, 1], [3, 2], [3, 4], [4, 0], [4, 1], [4, 2], [4, 3]]\n",
      "epsilon_max -> 1\n",
      "epsilon_min -> 0.0001\n",
      "epsilon_decay -> 0.0009\n",
      "discount_factor -> 0.95\n",
      "batch_size -> 32\n",
      "layers -> [200, 150, 100]\n",
      "********************************************************\n",
      "Model: \"sequential_1\"\n",
      "_________________________________________________________________\n",
      "Layer (type)                 Output Shape              Param #   \n",
      "=================================================================\n",
      "dense_1 (Dense)              (None, 200)               7400      \n",
      "_________________________________________________________________\n",
      "dense_2 (Dense)              (None, 150)               30150     \n",
      "_________________________________________________________________\n",
      "dense_3 (Dense)              (None, 100)               15100     \n",
      "_________________________________________________________________\n",
      "dense_4 (Dense)              (None, 21)                2121      \n",
      "=================================================================\n",
      "Total params: 54,771\n",
      "Trainable params: 54,771\n",
      "Non-trainable params: 0\n",
      "_________________________________________________________________\n"
     ]
    }
   ],
   "source": [
    "agent_param_dict = {\n",
    "    \"action_size\": len(env.action_space),\n",
    "    \"state_size\": env.state_size,\n",
    "    \"action_space\": env.action_space,\n",
    "    \"epsilon_max\": 1,\n",
    "    \"epsilon_min\": 0.0001,\n",
    "    \"epsilon_decay\": 0.0009,\n",
    "    \"discount_factor\": 0.95,\n",
    "    \"batch_size\": 32,\n",
    "    \"layers\": [32, 32],\n",
    "    \"learning_rate\": 0.001\n",
    "}\n",
    "\n",
    "agent_param = AgentParam(agent_param_dict)\n",
    "agent = DQNAgent(agent_param=agent_param, state_encoder=state_encoder)\n",
    "\n",
    "total_rewards = []"
   ]
  },
  {
   "cell_type": "code",
   "execution_count": 14,
   "metadata": {},
   "outputs": [],
   "source": [
    "Episodes = 10"
   ]
  },
  {
   "cell_type": "markdown",
   "metadata": {},
   "source": [
    "### DQN block"
   ]
  },
  {
   "cell_type": "code",
   "execution_count": 15,
   "metadata": {},
   "outputs": [
    {
     "name": "stdout",
     "output_type": "stream",
     "text": [
      "WARNING:tensorflow:From /Users/akumar/opt/anaconda3/lib/python3.7/site-packages/keras/backend/tensorflow_backend.py:422: The name tf.global_variables is deprecated. Please use tf.compat.v1.global_variables instead.\n",
      "\n",
      "episode: 1   score: -178.0   memory length: 162\n",
      "episode: 2   score: -36.0   memory length: 326\n",
      "episode: 3   score: -325.0   memory length: 481\n",
      "episode: 4   score: -153.0   memory length: 629\n",
      "episode: 5   score: -315.0   memory length: 786\n",
      "episode: 6   score: -308.0   memory length: 936\n",
      "episode: 7   score: -133.0   memory length: 1088\n",
      "episode: 8   score: -141.0   memory length: 1246\n",
      "episode: 9   score: -298.0   memory length: 1370\n",
      "episode: 10   score: -109.0   memory length: 1496\n"
     ]
    }
   ],
   "source": [
    "log_threshold = Episodes * .05\n",
    "threshold = Episodes * .001\n",
    "model_threshold = Episodes * 0.05\n",
    "\n",
    "for episode in range(Episodes):\n",
    "\n",
    "    # tracking total rewards, step count\n",
    "    total_reward = 0\n",
    "\n",
    "    state = env.reset()[2]\n",
    "    is_finished = False\n",
    "\n",
    "    current_episode = episode + 1\n",
    "\n",
    "    while not is_finished:\n",
    "\n",
    "        action = agent.get_action(state, episode, env.get_requests(state))\n",
    "\n",
    "        reward = env.get_reward(state, action, Time_matrix)\n",
    "\n",
    "        next_state, is_finished = env.get_next_state(state, action,\n",
    "                                                     Time_matrix)\n",
    "        agent.append_experience(state, action, reward, next_state, is_finished)\n",
    "\n",
    "        # every time step do the training\n",
    "        agent.train_model()\n",
    "        total_reward += reward\n",
    "        state = next_state\n",
    "\n",
    "        # Store the rewards\n",
    "        if is_finished and current_episode % log_threshold == 0:\n",
    "            total_rewards.append(total_reward)\n",
    "            print(\"episode:\", current_episode, \"  score:\", total_reward,\n",
    "                  \"  memory length:\", agent.memory_length())\n",
    "\n",
    "    if (current_episode % model_threshold) == 0:\n",
    "        agent.save(\"./dqn_cab_driver.h5\")\n",
    "\n",
    "    if (current_episode % threshold) == 0:\n",
    "        agent.update_tracking_states()"
   ]
  },
  {
   "cell_type": "code",
   "execution_count": null,
   "metadata": {},
   "outputs": [],
   "source": []
  },
  {
   "cell_type": "code",
   "execution_count": 16,
   "metadata": {},
   "outputs": [
    {
     "name": "stdout",
     "output_type": "stream",
     "text": [
      "defaultdict(<class 'dict'>, {(0, 12, 1): {(1, 4): []}, (1, 12, 4): {(1, 2): []}, (2, 14, 2): {(2, 3): []}})\n"
     ]
    }
   ],
   "source": [
    "print(agent.states_track)"
   ]
  },
  {
   "cell_type": "markdown",
   "metadata": {},
   "source": [
    "### Tracking Convergence"
   ]
  },
  {
   "cell_type": "code",
   "execution_count": 21,
   "metadata": {},
   "outputs": [
    {
     "name": "stdout",
     "output_type": "stream",
     "text": [
      "1\n",
      "4\n",
      "1\n",
      "2\n",
      "2\n",
      "3\n"
     ]
    },
    {
     "data": {
      "image/png": "[encoded data removed]",
      "text/plain": [
       "<Figure size 1080x144 with 3 Axes>"
      ]
     },
     "metadata": {
      "image/png": {
       "height": 157,
       "width": 876
      },
      "needs_background": "light"
     },
     "output_type": "display_data"
    }
   ],
   "source": [
    "plot_tracked_values(agent.states_track)"
   ]
  },
  {
   "cell_type": "code",
   "execution_count": null,
   "metadata": {},
   "outputs": [],
   "source": []
  },
  {
   "cell_type": "code",
   "execution_count": null,
   "metadata": {},
   "outputs": [],
   "source": []
  },
  {
   "cell_type": "markdown",
   "metadata": {},
   "source": [
    "#### Epsilon-decay sample function"
   ]
  },
  {
   "cell_type": "markdown",
   "metadata": {},
   "source": [
    "<div class=\"alert alert-block alert-info\">\n",
    "Try building a similar epsilon-decay function for your model.\n",
    "</div>"
   ]
  },
  {
   "cell_type": "code",
   "execution_count": null,
   "metadata": {},
   "outputs": [],
   "source": [
    "time = np.arange(0,10000)\n",
    "epsilon = []\n",
    "for i in range(0,10000):\n",
    "    epsilon.append(0 + (1 - 0) * np.exp(-0.0009*i))"
   ]
  },
  {
   "cell_type": "code",
   "execution_count": null,
   "metadata": {},
   "outputs": [],
   "source": [
    "plt.plot(time, epsilon)\n",
    "plt.show()"
   ]
  },
  {
   "cell_type": "code",
   "execution_count": null,
   "metadata": {},
   "outputs": [],
   "source": []
  },
  {
   "cell_type": "code",
   "execution_count": null,
   "metadata": {},
   "outputs": [],
   "source": []
  },
  {
   "cell_type": "code",
   "execution_count": null,
   "metadata": {},
   "outputs": [],
   "source": []
  },
  {
   "cell_type": "code",
   "execution_count": null,
   "metadata": {},
   "outputs": [],
   "source": []
  }
 ],
 "metadata": {
  "kernelspec": {
   "display_name": "Python 3",
   "language": "python",
   "name": "python3"
  },
  "language_info": {
   "codemirror_mode": {
    "name": "ipython",
    "version": 3
   },
   "file_extension": ".py",
   "mimetype": "text/x-python",
   "name": "python",
   "nbconvert_exporter": "python",
   "pygments_lexer": "ipython3",
   "version": "3.7.4"
  }
 },
 "nbformat": 4,
 "nbformat_minor": 2
}
